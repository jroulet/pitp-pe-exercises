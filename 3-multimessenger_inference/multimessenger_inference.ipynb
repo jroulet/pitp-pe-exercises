{
 "cells": [
  {
   "cell_type": "markdown",
   "id": "84c80ee3-8f97-452f-88f9-836dfc2fb51b",
   "metadata": {},
   "source": [
    "# Multimessenger inference\n",
    "\n",
    "> Note: this tutorial has the same dependencies as tutorial `2-parameter_estimation`, so you can run it in the same environment.\n",
    "\n",
    "In this tutorial you will:\n",
    "* Understand how arbitrary priors can be defined, instantiated and combined in `cogwheel`.\n",
    "* Infer the parameters of the binary neutron star GW170817, knowing its counterpart's sky location and redshift.\n",
    "\n",
    "This tutorial is intentionally less detailed that the previous ones, to encourage you to familiarize with browsing a code's documentation and source.\n",
    "\n",
    "## Motivation\n",
    "\n",
    "Observational astronomers were able to identify the kilonova explosion that resulted from the binary neutron star merger GW170817.\n",
    "This allowed to accurately pinpoint the sky location of the source (as opposed to inferring it from the gravitational wave data).\n",
    "Moreover, the redshift of the host galaxy has also been determined observationally. We can use this to fix the luminosity distance of the source (if we assume the expansion rate of the universe $H_0$ is known, e.g. from the Planck measurements of the cosmic microwave background). Alternatively, we could measure the luminosity distance from the gravitational-wave data and infer $H_0$.\n",
    "\n",
    "In addition, there are good physical arguments that constrain the spin of neutron stars. An absolute limit $\\chi \\lesssim 0.7$ can be placed, since beyond that the centrifugal force is so large that a neutron star would break up, shedding mass equatorially.\n",
    "Neutron stars are spun up by accretion from a companion star, and spin down in the absence of accretion. Merging neutron stars have likely been for a long time in orbit with a compact companion, and spun down.\n",
    "Including this information in the inference as a spin prior could help constrain even other parameters (e.g. mass ratio), which are correlated.\n",
    "(This was implemented as the \"low-spin\" prior in the GW170817 [paper](https://arxiv.org/pdf/1710.05832).)\n",
    "\n",
    "## Your mission\n",
    "\n",
    "1. Define a prior for the sky location that sets the right ascension and declination to a fixed value passed by the user.\n",
    "1. Likewise for the luminosity distance.\n",
    "1. Define a spin prior that allows you to set the maximum dimensionless spin of the component objects.\n",
    "1. Define a combined prior over the full set of parameters: masses, spins, sky localization, arrival time, polarization, inclination, orbital phase, distance, tidal deformabilities.\n",
    "1. Download GW data for GW170817.\n",
    "1. Instantiate a posterior object using your custom prior, with the right ascension, declination and distance corresponding to GW170817's host galaxy.\n",
    "1. Instantiate a sampler and estimate the parameters of GW170817.\n",
    "\n",
    "## Short background\n",
    "\n",
    "In a `cogwheel` inference run, the prior distribution is an instance of a `Prior` class. The prior class defines a family of prior distributions (say, \"normal distribution\") and the class instance a completely specified distribution (\"normal distribution with mean 1 and variance 2\").\n",
    "\n",
    "`cogwheel` doesn't offer a pre-specified way of expressing that the sky location is known. You will need to do that by constructing a \"delta-function\" prior on the right ascension `ra` and declination `dec`. Note that in that case `ra` and `dec` become standard parameters that do not have any sampled parameters associated.\n",
    "\n",
    "In the case we are studying, we want to fix the sky location and distance so we cannot employ extrinsic-parameter marginalization as in the previous tutorials. We will have to sample all the non-fixed parameters. The total set of standard parameters we ultimately need to produce are:"
   ]
  },
  {
   "cell_type": "code",
   "execution_count": null,
   "id": "56ba8e4b-d199-40f6-8c38-714bfee9bf44",
   "metadata": {},
   "outputs": [],
   "source": [
    "import cogwheel.waveform\n",
    "\n",
    "cogwheel.waveform.WaveformGenerator.params"
   ]
  },
  {
   "cell_type": "markdown",
   "id": "70462632-9908-4ddc-9c2a-197008c9be36",
   "metadata": {},
   "source": [
    "`cogwheel` allows to define modular priors (for few variables each) and combine them, so you will only need to define new classes for the specific ones you want to modify.\n",
    "\n",
    "* Go through the `make_your_own_prior.ipynb` tutorial in the `cogwheel` repository.\n",
    "\n",
    "* You are now in shape to start defining your own priors.\n",
    "\n",
    "## 1. Define a new `FixedSkyLocationPrior` prior class.\n",
    "\n",
    "Operationally, this is very similar to what `cogwheel` already does for the reference frequency: it is set to a fixed value that is not known in advance but needs to be chosen by the user. Take inspiration from the `cogwheel.gw_prior.miscellaneous.FixedReferenceFrequencyPrior` implementation, whose source code you can also find in the repository."
   ]
  },
  {
   "cell_type": "code",
   "execution_count": null,
   "id": "42dd8378-4195-4823-9d8f-b35207083ecc",
   "metadata": {},
   "outputs": [],
   "source": [
    "from cogwheel.prior import FixedPrior\n",
    "\n",
    "\n",
    "class FixedSkyLocationPrior(FixedPrior):\n",
    "    \"\"\"\n",
    "    Fix the right ascension and declination to user-specified values.\n",
    "    \"\"\"\n",
    "    # Complete this"
   ]
  },
  {
   "cell_type": "markdown",
   "id": "61706263-8c7e-4081-813a-1295f5673b16",
   "metadata": {},
   "source": [
    "Now test it. Is this what you expect?"
   ]
  },
  {
   "cell_type": "code",
   "execution_count": null,
   "id": "5732307b-49fd-44bc-9ac9-9da705a8fa01",
   "metadata": {},
   "outputs": [],
   "source": [
    "test_skyloc_prior = FixedSkyLocationPrior(ra=0.0, dec=1.0)\n",
    "print(f'{test_skyloc_prior.sampled_params = }')\n",
    "print(f'{test_skyloc_prior.standard_par_dic = }')\n",
    "print(f'{test_skyloc_prior.lnprior() = }')"
   ]
  },
  {
   "cell_type": "markdown",
   "id": "a15f7523-47dd-4253-a227-00d5a287c12f",
   "metadata": {},
   "source": [
    "## 2. Distance prior\n",
    "* Now do a prior class that fixes the luminosity distance"
   ]
  },
  {
   "cell_type": "code",
   "execution_count": null,
   "id": "fbd9951f-6ae5-468f-bad3-55747f93a664",
   "metadata": {},
   "outputs": [],
   "source": []
  },
  {
   "cell_type": "markdown",
   "id": "43fdf003-1e16-40c9-92c8-69b9b78b6d7b",
   "metadata": {},
   "source": [
    "## 3. Spin prior\n",
    "\n",
    "Let's now define a spin prior that allows the user to pass a maximum spin.\n",
    "\n",
    "### Suggestions (but you may do otherwise):\n",
    "\n",
    "- For simplicity, restrict to aligned-spin configurations and create a prior for `s1z`, `s2z`.\n",
    "\n",
    "  `cogwheel` already offers `cogwheel.gw_prior.spin.ZeroInplaneSpinsPrior` to set in-plane spin components to zero, so you only need to define a new class for the $z$ components in this case.\n",
    "\n",
    "- A simple choice is to sample directly in the `s1z`, `s2z` parameters (same sampled and standard parameters). This makes the prior easy to define, but at the price of making sampled variables correlated (e.g., typically the combination $\\chi_\\textrm{eff}$ (effective spin) is better measured than `s1z` or `s2z`).\n",
    "If you go this route, you may find the `cogwheel.prior.IdentityTransformMixin` mixin-class useful.\n",
    "\n",
    "> Mixin classes are designed to behave well with multiple inheritance, so they are easy to combine.\n",
    "> They are defined as classes that do not provide their own attributes or `__init__` method.\n",
    "> They allow to pick and choose behaviors for your classes to have, in a resusable way.\n",
    "\n",
    "* For simplicity, you may choose a uniform prior on the spins. Then, the `cogwheel.prior.UniformPriorMixin` may be useful."
   ]
  },
  {
   "cell_type": "code",
   "execution_count": null,
   "id": "218ad155-87a5-4f59-b7b8-652119e7c7c6",
   "metadata": {},
   "outputs": [],
   "source": []
  },
  {
   "cell_type": "markdown",
   "id": "d6f343ae-69a4-432f-818e-d9a5e59255e0",
   "metadata": {},
   "source": [
    "## 4. Combine modular priors\n",
    "We now define another prior class that corresponds to the prior over the full parameter space:"
   ]
  },
  {
   "cell_type": "code",
   "execution_count": null,
   "id": "157cd92b-3ea7-49ad-bb5c-3146e053fe96",
   "metadata": {},
   "outputs": [],
   "source": [
    "from cogwheel.gw_prior.combined import (\n",
    "    RegisteredPriorMixin,\n",
    "    CombinedPrior,\n",
    "    UniformDetectorFrameMassesPrior,\n",
    "    IsotropicInclinationPrior,\n",
    "    UniformTimePrior,\n",
    "    UniformPolarizationPrior,\n",
    "    UniformPhasePrior,\n",
    "    ZeroInplaneSpinsPrior,\n",
    "    UniformTidalDeformabilitiesBNSPrior,\n",
    "    FixedReferenceFrequencyPrior\n",
    ")\n",
    "\n",
    "\n",
    "class MultiMessengerBNSPrior(RegisteredPriorMixin, CombinedPrior):\n",
    "    \"\"\"\n",
    "    Has customized fixed-sky-location, fixed-distance, low-spin priors.\n",
    "    \"\"\"\n",
    "    default_likelihood_class = RelativeBinningLikelihood\n",
    "\n",
    "    prior_classes = [\n",
    "        UniformDetectorFrameMassesPrior,\n",
    "        IsotropicInclinationPrior,\n",
    "        FixedSkyLocationPrior,\n",
    "        UniformTimePrior,\n",
    "        UniformPolarizationPrior,\n",
    "        UniformPhasePrior,\n",
    "        YourFixedDistancePriorHere,\n",
    "        YourSpinPriorHere,\n",
    "        ZeroInplaneSpinsPrior,\n",
    "        UniformTidalDeformabilitiesBNSPrior,\n",
    "        FixedReferenceFrequencyPrior,\n",
    "    ]"
   ]
  },
  {
   "cell_type": "code",
   "execution_count": null,
   "id": "88c922fb-2670-4aab-be4b-93e34ea498bb",
   "metadata": {},
   "outputs": [],
   "source": [
    "# Test it: is this what you expect?\n",
    "print(f'{MultiMessengerBNSPrior.sampled_params = }')\n",
    "print(f'{MultiMessengerBNSPrior.standard_params = }')"
   ]
  },
  {
   "cell_type": "markdown",
   "id": "dee31a03-e88f-4f60-b8c7-b8b1c4c8747d",
   "metadata": {},
   "source": [
    "## 5. Download data\n",
    "* Download data for GW170817, making sure it is the version with the LIGO-Livingston glitch cleaned.\n",
    "* Create the corresponding `cogwheel.data.EventData` instance, name it `event_data`.\n",
    "\n",
    "> See the `event_data.ipynb`tutorial in the `cogwheel` repository for inspiration."
   ]
  },
  {
   "cell_type": "code",
   "execution_count": null,
   "id": "8433cb5d-b921-46c0-a80d-75d228fcacb4",
   "metadata": {},
   "outputs": [],
   "source": []
  },
  {
   "cell_type": "markdown",
   "id": "6d5044ab-096e-4ba0-a67f-2293cbf402d7",
   "metadata": {},
   "source": [
    "## 6. Instantiate a `Posterior`\n",
    "* Instantiate a posterior object using your custom prior, with the right ascension, declination and distance corresponding to GW170817's host galaxy NGC 4993 (assuming your favorite value of $H_0$).\n",
    "\n",
    "As you already know from the previous tutorial, this is done with `cogwheel.posterior.Posterior.from_event()`.\n",
    "However, your new priors require special initialization parameters that `cogwheel` doesn't know how to handle automatically:\n",
    "\n",
    "Look at"
   ]
  },
  {
   "cell_type": "code",
   "execution_count": null,
   "id": "894c98ff-7fd5-4ff7-be81-5a9e41c62684",
   "metadata": {},
   "outputs": [],
   "source": [
    "MultiMessengerBNSPrior.init_parameters()"
   ]
  },
  {
   "cell_type": "markdown",
   "id": "157940ca-eda3-4446-9747-d847fe647ad3",
   "metadata": {},
   "source": [
    "Any parameters there that were introduce by you, you will need to pass to `from_event` as `prior_kwargs`, e.g.:"
   ]
  },
  {
   "cell_type": "code",
   "execution_count": null,
   "id": "57227fd6-8ad7-431c-829d-2d75d7bdf8c4",
   "metadata": {},
   "outputs": [],
   "source": [
    "import cogwheel.posterior\n",
    "\n",
    "posterior = cogwheel.posterior.Posterior.from_event(\n",
    "    event_data,\n",
    "    mchirp_guess=1.198,\n",
    "    approximant='IMRPhenomD_NRTidalv2',\n",
    "    prior_class=MultiMessengerBNSPrior,\n",
    "    prior_kwargs={\n",
    "        'ra': NGC_4993_ra,  # Provide this value (in radians!)\n",
    "        'dec': NGC_4993_dec,  # Provide this value (in radians!)\n",
    "        'd_luminosity': NGC_4993_dl,  # Provide this value\n",
    "        'max_spin': 0.05  # Provide this value\n",
    "    }\n",
    ")"
   ]
  },
  {
   "cell_type": "markdown",
   "id": "733c231e-1ae1-46f7-8121-7377ac8e447e",
   "metadata": {},
   "source": [
    "Check that the reference solution looks good:"
   ]
  },
  {
   "cell_type": "code",
   "execution_count": null,
   "id": "81208bf0-b0c4-4f16-a6da-2732c312e44f",
   "metadata": {},
   "outputs": [],
   "source": [
    "posterior.likelihood.plot_whitened_wf(posterior.likelihood.par_dic_0)"
   ]
  },
  {
   "cell_type": "markdown",
   "id": "5dac2a46-b239-438b-bc4b-3b00640cc66b",
   "metadata": {},
   "source": [
    "## 7. Infer the parameters of GW170817\n",
    "* Instantiate and run a sampler for the above `posterior`.\n",
    "* Can you reproduce the inference results of the GW170817 [paper](https://arxiv.org/pdf/1710.05832)?"
   ]
  },
  {
   "cell_type": "code",
   "execution_count": null,
   "id": "09c464f4-52db-445f-81bc-46f7cd917a4c",
   "metadata": {},
   "outputs": [],
   "source": []
  }
 ],
 "metadata": {
  "kernelspec": {
   "display_name": "Python 3 (ipykernel)",
   "language": "python",
   "name": "python3"
  },
  "language_info": {
   "codemirror_mode": {
    "name": "ipython",
    "version": 3
   },
   "file_extension": ".py",
   "mimetype": "text/x-python",
   "name": "python",
   "nbconvert_exporter": "python",
   "pygments_lexer": "ipython3",
   "version": "3.13.5"
  }
 },
 "nbformat": 4,
 "nbformat_minor": 5
}
